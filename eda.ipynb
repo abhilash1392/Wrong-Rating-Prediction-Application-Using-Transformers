{
 "metadata": {
  "language_info": {
   "codemirror_mode": {
    "name": "ipython",
    "version": 3
   },
   "file_extension": ".py",
   "mimetype": "text/x-python",
   "name": "python",
   "nbconvert_exporter": "python",
   "pygments_lexer": "ipython3",
   "version": "3.8.6-final"
  },
  "orig_nbformat": 2,
  "kernelspec": {
   "name": "python386jvsc74a57bd01b824855985baed1c12d8af5e3830fb4494880cd9f69c01283b0bcbd36581ad8",
   "display_name": "Python 3.8.6 64-bit ('wrpenv')"
  }
 },
 "nbformat": 4,
 "nbformat_minor": 2,
 "cells": [
  {
   "cell_type": "code",
   "execution_count": 1,
   "metadata": {},
   "outputs": [],
   "source": [
    "import pandas as pd \n",
    "import numpy as np \n",
    "from transformers import pipeline "
   ]
  },
  {
   "cell_type": "code",
   "execution_count": 2,
   "metadata": {},
   "outputs": [],
   "source": [
    "sentiment_analyzer = pipeline('sentiment-analysis')"
   ]
  },
  {
   "cell_type": "code",
   "execution_count": 3,
   "metadata": {},
   "outputs": [],
   "source": [
    "sentiment_analysis  =  sentiment_analyzer('This app is amzing.')"
   ]
  },
  {
   "cell_type": "code",
   "execution_count": 4,
   "metadata": {},
   "outputs": [
    {
     "output_type": "execute_result",
     "data": {
      "text/plain": [
       "[{'label': 'NEGATIVE', 'score': 0.999393880367279}]"
      ]
     },
     "metadata": {},
     "execution_count": 4
    }
   ],
   "source": [
    "sentiment_analysis"
   ]
  },
  {
   "cell_type": "code",
   "execution_count": 5,
   "metadata": {},
   "outputs": [
    {
     "output_type": "execute_result",
     "data": {
      "text/plain": [
       "'amazing'"
      ]
     },
     "metadata": {},
     "execution_count": 5
    }
   ],
   "source": [
    "from spellchecker import SpellChecker\n",
    "\n",
    "spell = SpellChecker()\n",
    "\n",
    "spell.correction('amzing')"
   ]
  },
  {
   "cell_type": "code",
   "execution_count": 7,
   "metadata": {},
   "outputs": [],
   "source": [
    "y = 'This is amzing'"
   ]
  },
  {
   "cell_type": "code",
   "execution_count": 11,
   "metadata": {},
   "outputs": [],
   "source": [
    "def spelling_checker(x):\n",
    "    x = x.split(' ')\n",
    "    z = []\n",
    "    for i in x:\n",
    "        z.append(spell.correction(i))\n",
    "    return ' '.join(z)"
   ]
  },
  {
   "cell_type": "code",
   "execution_count": 12,
   "metadata": {},
   "outputs": [
    {
     "output_type": "execute_result",
     "data": {
      "text/plain": [
       "'This is amazing'"
      ]
     },
     "metadata": {},
     "execution_count": 12
    }
   ],
   "source": [
    "spelling_checker(y)"
   ]
  },
  {
   "cell_type": "code",
   "execution_count": 15,
   "metadata": {},
   "outputs": [
    {
     "output_type": "stream",
     "name": "stdout",
     "text": [
      "POSITIVE\n"
     ]
    }
   ],
   "source": [
    "sentiment_analysis  =  sentiment_analyzer(spelling_checker('This app is amzing.'))\n",
    "print(sentiment_analysis[0]['label'])"
   ]
  },
  {
   "cell_type": "code",
   "execution_count": 20,
   "metadata": {},
   "outputs": [],
   "source": [
    "import pandas as pd\n",
    "df = pd.read_csv('chrome_reviews.txt')"
   ]
  },
  {
   "cell_type": "code",
   "execution_count": 23,
   "metadata": {},
   "outputs": [],
   "source": [
    "spell = SpellChecker()\n",
    "def cleaning_text(x):\n",
    "    x = x.split()\n",
    "    \n",
    "    z = []\n",
    "    for i in x:\n",
    "        z.append(spell.correction(i))\n",
    "    return ' '.join(z)\n"
   ]
  },
  {
   "cell_type": "code",
   "execution_count": 24,
   "metadata": {},
   "outputs": [],
   "source": [
    "sentiment_analyzer = pipeline('sentiment-analysis')\n",
    "def check_sentiment(x):\n",
    "    return sentiment_analyzer(x)[0]['label']"
   ]
  },
  {
   "cell_type": "code",
   "execution_count": 25,
   "metadata": {},
   "outputs": [
    {
     "output_type": "execute_result",
     "data": {
      "text/plain": [
       "     ID                                         Review URL  \\\n",
       "0  3886  https://play.google.com/store/apps/details?id=...   \n",
       "1  3887  https://play.google.com/store/apps/details?id=...   \n",
       "2  3888  https://play.google.com/store/apps/details?id=...   \n",
       "3  3889  https://play.google.com/store/apps/details?id=...   \n",
       "4  3890  https://play.google.com/store/apps/details?id=...   \n",
       "\n",
       "                                             Text  Star  Thumbs Up  \\\n",
       "0                      This is very helpfull aap.     5          0   \n",
       "1                                            Good     3          2   \n",
       "2  Not able to update. Neither able to uninstall.     1          0   \n",
       "3                                        Nice app     4          0   \n",
       "4                               Many unwanted ads     1          0   \n",
       "\n",
       "          User Name Developer Reply        Version Review Date  \\\n",
       "0  INDIAN Knowledge             NaN  83.0.4103.106  2020-12-19   \n",
       "1  Ijeoma Happiness             NaN  85.0.4183.127  2020-12-19   \n",
       "2  Priti D BtCFs-29             NaN  85.0.4183.127  2020-12-19   \n",
       "3        Ajeet Raja             NaN  77.0.3865.116  2020-12-19   \n",
       "4           Rams Mp             NaN   87.0.4280.66  2020-12-19   \n",
       "\n",
       "               App ID  \n",
       "0  com.android.chrome  \n",
       "1  com.android.chrome  \n",
       "2  com.android.chrome  \n",
       "3  com.android.chrome  \n",
       "4  com.android.chrome  "
      ],
      "text/html": "<div>\n<style scoped>\n    .dataframe tbody tr th:only-of-type {\n        vertical-align: middle;\n    }\n\n    .dataframe tbody tr th {\n        vertical-align: top;\n    }\n\n    .dataframe thead th {\n        text-align: right;\n    }\n</style>\n<table border=\"1\" class=\"dataframe\">\n  <thead>\n    <tr style=\"text-align: right;\">\n      <th></th>\n      <th>ID</th>\n      <th>Review URL</th>\n      <th>Text</th>\n      <th>Star</th>\n      <th>Thumbs Up</th>\n      <th>User Name</th>\n      <th>Developer Reply</th>\n      <th>Version</th>\n      <th>Review Date</th>\n      <th>App ID</th>\n    </tr>\n  </thead>\n  <tbody>\n    <tr>\n      <th>0</th>\n      <td>3886</td>\n      <td>https://play.google.com/store/apps/details?id=...</td>\n      <td>This is very helpfull aap.</td>\n      <td>5</td>\n      <td>0</td>\n      <td>INDIAN Knowledge</td>\n      <td>NaN</td>\n      <td>83.0.4103.106</td>\n      <td>2020-12-19</td>\n      <td>com.android.chrome</td>\n    </tr>\n    <tr>\n      <th>1</th>\n      <td>3887</td>\n      <td>https://play.google.com/store/apps/details?id=...</td>\n      <td>Good</td>\n      <td>3</td>\n      <td>2</td>\n      <td>Ijeoma Happiness</td>\n      <td>NaN</td>\n      <td>85.0.4183.127</td>\n      <td>2020-12-19</td>\n      <td>com.android.chrome</td>\n    </tr>\n    <tr>\n      <th>2</th>\n      <td>3888</td>\n      <td>https://play.google.com/store/apps/details?id=...</td>\n      <td>Not able to update. Neither able to uninstall.</td>\n      <td>1</td>\n      <td>0</td>\n      <td>Priti D BtCFs-29</td>\n      <td>NaN</td>\n      <td>85.0.4183.127</td>\n      <td>2020-12-19</td>\n      <td>com.android.chrome</td>\n    </tr>\n    <tr>\n      <th>3</th>\n      <td>3889</td>\n      <td>https://play.google.com/store/apps/details?id=...</td>\n      <td>Nice app</td>\n      <td>4</td>\n      <td>0</td>\n      <td>Ajeet Raja</td>\n      <td>NaN</td>\n      <td>77.0.3865.116</td>\n      <td>2020-12-19</td>\n      <td>com.android.chrome</td>\n    </tr>\n    <tr>\n      <th>4</th>\n      <td>3890</td>\n      <td>https://play.google.com/store/apps/details?id=...</td>\n      <td>Many unwanted ads</td>\n      <td>1</td>\n      <td>0</td>\n      <td>Rams Mp</td>\n      <td>NaN</td>\n      <td>87.0.4280.66</td>\n      <td>2020-12-19</td>\n      <td>com.android.chrome</td>\n    </tr>\n  </tbody>\n</table>\n</div>"
     },
     "metadata": {},
     "execution_count": 25
    }
   ],
   "source": [
    "df.head()"
   ]
  },
  {
   "cell_type": "code",
   "execution_count": 36,
   "metadata": {},
   "outputs": [
    {
     "output_type": "execute_result",
     "data": {
      "text/plain": [
       "(7204, 10)"
      ]
     },
     "metadata": {},
     "execution_count": 36
    }
   ],
   "source": [
    "df.shape"
   ]
  },
  {
   "cell_type": "code",
   "execution_count": 37,
   "metadata": {},
   "outputs": [],
   "source": [
    "df = df[df['Text'].isna()==False]"
   ]
  },
  {
   "cell_type": "code",
   "execution_count": 39,
   "metadata": {},
   "outputs": [],
   "source": [
    "df.reset_index(drop=True,inplace=True)"
   ]
  },
  {
   "cell_type": "code",
   "execution_count": 40,
   "metadata": {},
   "outputs": [
    {
     "output_type": "stream",
     "name": "stderr",
     "text": [
      "<ipython-input-40-16e4556acf96>:1: SettingWithCopyWarning: \nA value is trying to be set on a copy of a slice from a DataFrame.\nTry using .loc[row_indexer,col_indexer] = value instead\n\nSee the caveats in the documentation: https://pandas.pydata.org/pandas-docs/stable/user_guide/indexing.html#returning-a-view-versus-a-copy\n  df['clean_text'] = df['Text'].apply(lambda x: cleaning_text(x))\n"
     ]
    }
   ],
   "source": [
    "df['clean_text'] = df['Text'].apply(lambda x: cleaning_text(x))"
   ]
  },
  {
   "cell_type": "code",
   "execution_count": 41,
   "metadata": {},
   "outputs": [],
   "source": [
    "df['sentiment_detected'] = df['clean_text'].apply(lambda x: check_sentiment(x))"
   ]
  },
  {
   "cell_type": "code",
   "execution_count": 42,
   "metadata": {},
   "outputs": [
    {
     "output_type": "execute_result",
     "data": {
      "text/plain": [
       "     ID                                         Review URL  \\\n",
       "0  3886  https://play.google.com/store/apps/details?id=...   \n",
       "1  3887  https://play.google.com/store/apps/details?id=...   \n",
       "2  3888  https://play.google.com/store/apps/details?id=...   \n",
       "3  3889  https://play.google.com/store/apps/details?id=...   \n",
       "4  3890  https://play.google.com/store/apps/details?id=...   \n",
       "\n",
       "                                             Text  Star  Thumbs Up  \\\n",
       "0                      This is very helpfull aap.     5          0   \n",
       "1                                            Good     3          2   \n",
       "2  Not able to update. Neither able to uninstall.     1          0   \n",
       "3                                        Nice app     4          0   \n",
       "4                               Many unwanted ads     1          0   \n",
       "\n",
       "          User Name Developer Reply        Version Review Date  \\\n",
       "0  INDIAN Knowledge             NaN  83.0.4103.106  2020-12-19   \n",
       "1  Ijeoma Happiness             NaN  85.0.4183.127  2020-12-19   \n",
       "2  Priti D BtCFs-29             NaN  85.0.4183.127  2020-12-19   \n",
       "3        Ajeet Raja             NaN  77.0.3865.116  2020-12-19   \n",
       "4           Rams Mp             NaN   87.0.4280.66  2020-12-19   \n",
       "\n",
       "               App ID                                    clean_text  \\\n",
       "0  com.android.chrome                     This is very helpful tape   \n",
       "1  com.android.chrome                                          Good   \n",
       "2  com.android.chrome  Not able to update Neither able to uninstall   \n",
       "3  com.android.chrome                                      Nice app   \n",
       "4  com.android.chrome                             Many unwanted ads   \n",
       "\n",
       "  sentiment_detected  \n",
       "0           POSITIVE  \n",
       "1           POSITIVE  \n",
       "2           NEGATIVE  \n",
       "3           POSITIVE  \n",
       "4           NEGATIVE  "
      ],
      "text/html": "<div>\n<style scoped>\n    .dataframe tbody tr th:only-of-type {\n        vertical-align: middle;\n    }\n\n    .dataframe tbody tr th {\n        vertical-align: top;\n    }\n\n    .dataframe thead th {\n        text-align: right;\n    }\n</style>\n<table border=\"1\" class=\"dataframe\">\n  <thead>\n    <tr style=\"text-align: right;\">\n      <th></th>\n      <th>ID</th>\n      <th>Review URL</th>\n      <th>Text</th>\n      <th>Star</th>\n      <th>Thumbs Up</th>\n      <th>User Name</th>\n      <th>Developer Reply</th>\n      <th>Version</th>\n      <th>Review Date</th>\n      <th>App ID</th>\n      <th>clean_text</th>\n      <th>sentiment_detected</th>\n    </tr>\n  </thead>\n  <tbody>\n    <tr>\n      <th>0</th>\n      <td>3886</td>\n      <td>https://play.google.com/store/apps/details?id=...</td>\n      <td>This is very helpfull aap.</td>\n      <td>5</td>\n      <td>0</td>\n      <td>INDIAN Knowledge</td>\n      <td>NaN</td>\n      <td>83.0.4103.106</td>\n      <td>2020-12-19</td>\n      <td>com.android.chrome</td>\n      <td>This is very helpful tape</td>\n      <td>POSITIVE</td>\n    </tr>\n    <tr>\n      <th>1</th>\n      <td>3887</td>\n      <td>https://play.google.com/store/apps/details?id=...</td>\n      <td>Good</td>\n      <td>3</td>\n      <td>2</td>\n      <td>Ijeoma Happiness</td>\n      <td>NaN</td>\n      <td>85.0.4183.127</td>\n      <td>2020-12-19</td>\n      <td>com.android.chrome</td>\n      <td>Good</td>\n      <td>POSITIVE</td>\n    </tr>\n    <tr>\n      <th>2</th>\n      <td>3888</td>\n      <td>https://play.google.com/store/apps/details?id=...</td>\n      <td>Not able to update. Neither able to uninstall.</td>\n      <td>1</td>\n      <td>0</td>\n      <td>Priti D BtCFs-29</td>\n      <td>NaN</td>\n      <td>85.0.4183.127</td>\n      <td>2020-12-19</td>\n      <td>com.android.chrome</td>\n      <td>Not able to update Neither able to uninstall</td>\n      <td>NEGATIVE</td>\n    </tr>\n    <tr>\n      <th>3</th>\n      <td>3889</td>\n      <td>https://play.google.com/store/apps/details?id=...</td>\n      <td>Nice app</td>\n      <td>4</td>\n      <td>0</td>\n      <td>Ajeet Raja</td>\n      <td>NaN</td>\n      <td>77.0.3865.116</td>\n      <td>2020-12-19</td>\n      <td>com.android.chrome</td>\n      <td>Nice app</td>\n      <td>POSITIVE</td>\n    </tr>\n    <tr>\n      <th>4</th>\n      <td>3890</td>\n      <td>https://play.google.com/store/apps/details?id=...</td>\n      <td>Many unwanted ads</td>\n      <td>1</td>\n      <td>0</td>\n      <td>Rams Mp</td>\n      <td>NaN</td>\n      <td>87.0.4280.66</td>\n      <td>2020-12-19</td>\n      <td>com.android.chrome</td>\n      <td>Many unwanted ads</td>\n      <td>NEGATIVE</td>\n    </tr>\n  </tbody>\n</table>\n</div>"
     },
     "metadata": {},
     "execution_count": 42
    }
   ],
   "source": [
    "df.head()"
   ]
  },
  {
   "cell_type": "code",
   "execution_count": 43,
   "metadata": {},
   "outputs": [],
   "source": [
    "def check_sentiment_rated(x):\n",
    "    if x<=3:\n",
    "        return 'NEGATIVE'\n",
    "    else:\n",
    "        return 'POSITIVE'"
   ]
  },
  {
   "cell_type": "code",
   "execution_count": 44,
   "metadata": {},
   "outputs": [],
   "source": [
    "df['sentiment_user_rating'] = -1\n",
    "for i in range(len(df.index)):\n",
    "    df.loc[i,'sentiment_user_rating'] = check_sentiment_rated(df.loc[i,'Star'])"
   ]
  },
  {
   "cell_type": "code",
   "execution_count": 51,
   "metadata": {},
   "outputs": [],
   "source": [
    "df['wrong_rating']=(df.sentiment_detected!=df.sentiment_user_rating) "
   ]
  },
  {
   "cell_type": "code",
   "execution_count": 52,
   "metadata": {},
   "outputs": [],
   "source": [
    "df.to_csv('wrong_rating_output.csv')"
   ]
  },
  {
   "cell_type": "code",
   "execution_count": 54,
   "metadata": {},
   "outputs": [],
   "source": [
    "sample_df = pd.read_csv('chrome_reviews.txt')\n",
    "sample_df.sample(frac=0.1)\n",
    "sample_df.reset_index(drop=True,inplace=True)\n",
    "sample_df.to_csv('testfile.csv')"
   ]
  }
 ]
}